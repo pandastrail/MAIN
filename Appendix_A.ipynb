{
 "cells": [
  {
   "cell_type": "markdown",
   "metadata": {},
   "source": [
    "# Appendix A\n",
    "\n",
    "## ZHAW, CAS Machine Learning, Text Analytics\n",
    "## Text Summarization with gensim\n",
    "**Giovanni López, June 2018**\n",
    "\n",
    "*Notebook available at https://github.com/pandastrail/MAIN/blob/master/Appendix_A.ipynb*"
   ]
  },
  {
   "cell_type": "markdown",
   "metadata": {},
   "source": [
    "We are going to try to solve a simple Text Summarization problem by using the gensim library in Python. Gensim is a Python library for topic modelling, document indexing and similarity retrieval.\n",
    "\n",
    "This summarizer is based on the \"TextRank\" algorithm and \"BM25 ranking function\". It only works for English, stopwords are removed and words are stemmed.\n",
    "\n",
    "With gensim already installed, we are going to call the *'summarization'* method of the library and import a few sub-methods:"
   ]
  },
  {
   "cell_type": "code",
   "execution_count": 11,
   "metadata": {},
   "outputs": [],
   "source": [
    "from gensim.summarization import summarize\n",
    "from gensim.summarization import keywords\n",
    "import requests\n",
    "# requests will be later needed to get a larger text from an URL"
   ]
  },
  {
   "cell_type": "markdown",
   "metadata": {},
   "source": [
    "Now, let's copy a few lines from a random [article](https://www.nytimes.com/2018/06/26/business/trump-harley-davidson-tariffs.html?hp&action=click&pgtype=Homepage&clickSource=story-heading&module=first-column-region&region=top-news&WT.nav=top-news) from the New York Times, something like the following:"
   ]
  },
  {
   "cell_type": "code",
   "execution_count": 3,
   "metadata": {},
   "outputs": [],
   "source": [
    "text = '''President Trump lashed out at one of his favorite American manufacturers on Tuesday, \n",
    "criticizing Harley-Davidson over its plans to move some of its motorcycle production abroad and threatening it with punitive taxes in return.\n",
    "In a series of tweets on Tuesday, the president accused the Wisconsin-based company of having “surrendered” in Mr. Trump’s trade war with Europe. \n",
    "He told Republican lawmakers at a White House meeting that the move amounted to a betrayal, saying, “I’ve been very good to Harley-Davidson.”\n",
    "“If they move, watch, it will be the beginning of the end — they surrendered, they quit!” the president wrote on Twitter. \n",
    "“The Aura will be gone and they will be taxed like never before!”\n",
    "A day earlier, Harley-Davidson announced that it would shift some of its production overseas in response to the European Union’s \n",
    "new 31 percent tariff on its imported bikes, which was imposed in retaliation for Mr. Trump’s steel and aluminum tariffs.\n",
    "'''"
   ]
  },
  {
   "cell_type": "markdown",
   "metadata": {},
   "source": [
    "Let's explore the method *summarize* imported from gensim "
   ]
  },
  {
   "cell_type": "code",
   "execution_count": 4,
   "metadata": {},
   "outputs": [
    {
     "name": "stdout",
     "output_type": "stream",
     "text": [
      "Help on function summarize in module gensim.summarization.summarizer:\n",
      "\n",
      "summarize(text, ratio=0.2, word_count=None, split=False)\n",
      "    Get a summarized version of the given text.\n",
      "    \n",
      "    The output summary will consist of the most representative sentences\n",
      "    and will be returned as a string, divided by newlines.\n",
      "    \n",
      "    Note\n",
      "    ----\n",
      "    The input should be a string, and must be longer than :const:`~gensim.summarization.summarizer.INPUT_MIN_LENGTH`\n",
      "    sentences for the summary to make sense.\n",
      "    The text will be split into sentences using the split_sentences method in the :mod:`gensim.summarization.texcleaner`\n",
      "    module. Note that newlines divide sentences.\n",
      "    \n",
      "    \n",
      "    Parameters\n",
      "    ----------\n",
      "    text : str\n",
      "        Given text.\n",
      "    ratio : float, optional\n",
      "        Number between 0 and 1 that determines the proportion of the number of\n",
      "        sentences of the original text to be chosen for the summary.\n",
      "    word_count : int or None, optional\n",
      "        Determines how many words will the output contain.\n",
      "        If both parameters are provided, the ratio will be ignored.\n",
      "    split : bool, optional\n",
      "        If True, list of sentences will be returned. Otherwise joined\n",
      "        strings will bwe returned.\n",
      "    \n",
      "    Returns\n",
      "    -------\n",
      "    list of str\n",
      "        If `split` **OR**\n",
      "    str\n",
      "        Most representative sentences of given the text.\n",
      "\n"
     ]
    }
   ],
   "source": [
    "help(summarize)"
   ]
  },
  {
   "cell_type": "markdown",
   "metadata": {},
   "source": [
    "So, let's run a summarization leaving all the optional arguments with the default values, thus, we just pass the string:"
   ]
  },
  {
   "cell_type": "code",
   "execution_count": 5,
   "metadata": {},
   "outputs": [
    {
     "data": {
      "text/plain": [
       "'In a series of tweets on Tuesday, the president accused the Wisconsin-based company of having “surrendered” in Mr. Trump’s trade war with Europe.'"
      ]
     },
     "execution_count": 5,
     "metadata": {},
     "output_type": "execute_result"
    }
   ],
   "source": [
    "summarize(text)"
   ]
  },
  {
   "cell_type": "markdown",
   "metadata": {},
   "source": [
    "Not e that the output does not contain the word \"Trump\", that should be expected regardless of the output lenght.\n",
    "\n",
    "The default ratio of 0.2 on means that 20% of the original text will be returned, let's play with this ratio, going from 0.2 to 0.5 and then going back to 0.1:"
   ]
  },
  {
   "cell_type": "code",
   "execution_count": 6,
   "metadata": {},
   "outputs": [
    {
     "data": {
      "text/plain": [
       "'President Trump lashed out at one of his favorite American manufacturers on Tuesday, \\ncriticizing Harley-Davidson over its plans to move some of its motorcycle production abroad and threatening it with punitive taxes in return.\\nIn a series of tweets on Tuesday, the president accused the Wisconsin-based company of having “surrendered” in Mr. Trump’s trade war with Europe.\\nA day earlier, Harley-Davidson announced that it would shift some of its production overseas in response to the European Union’s '"
      ]
     },
     "execution_count": 6,
     "metadata": {},
     "output_type": "execute_result"
    }
   ],
   "source": [
    "summarize(text, ratio=0.5)"
   ]
  },
  {
   "cell_type": "code",
   "execution_count": 7,
   "metadata": {},
   "outputs": [
    {
     "data": {
      "text/plain": [
       "''"
      ]
     },
     "execution_count": 7,
     "metadata": {},
     "output_type": "execute_result"
    }
   ],
   "source": [
    "summarize(text, ratio=0.1)"
   ]
  },
  {
   "cell_type": "markdown",
   "metadata": {},
   "source": [
    "When using a ration of 0.1 it seems it does not find a sentece or structure to represent the summary that is only 10% of the original text. It appears that default ratio of 0.2 does a good job on getting the summary, let's now change the word count to get in the output:"
   ]
  },
  {
   "cell_type": "code",
   "execution_count": 8,
   "metadata": {},
   "outputs": [
    {
     "data": {
      "text/plain": [
       "'criticizing Harley-Davidson over its plans to move some of its motorcycle production abroad and threatening it with punitive taxes in return.\\nIn a series of tweets on Tuesday, the president accused the Wisconsin-based company of having “surrendered” in Mr. Trump’s trade war with Europe.\\nA day earlier, Harley-Davidson announced that it would shift some of its production overseas in response to the European Union’s '"
      ]
     },
     "execution_count": 8,
     "metadata": {},
     "output_type": "execute_result"
    }
   ],
   "source": [
    "summarize(text, word_count=60)"
   ]
  },
  {
   "cell_type": "markdown",
   "metadata": {},
   "source": [
    "Let's now try the *keywords* method:"
   ]
  },
  {
   "cell_type": "code",
   "execution_count": 9,
   "metadata": {},
   "outputs": [
    {
     "name": "stdout",
     "output_type": "stream",
     "text": [
      "Help on function keywords in module gensim.summarization.keywords:\n",
      "\n",
      "keywords(text, ratio=0.2, words=None, split=False, scores=False, pos_filter=('NN', 'JJ'), lemmatize=False, deacc=True)\n",
      "    Get most ranked words of provided text and/or its combinations.\n",
      "    \n",
      "    Parameters\n",
      "    ----------\n",
      "    \n",
      "    text : str\n",
      "        Input text.\n",
      "    ratio : float, optional\n",
      "        If no \"words\" option is selected, the number of sentences is reduced by the provided ratio,\n",
      "        else, the ratio is ignored.\n",
      "    words : int, optional\n",
      "        Number of returned words.\n",
      "    split : bool, optional\n",
      "        Whether split keywords if True.\n",
      "    scores : bool, optional\n",
      "        Whether score of keyword.\n",
      "    pos_filter : tuple, optional\n",
      "        Part of speech filters.\n",
      "    lemmatize : bool, optional\n",
      "        If True - lemmatize words.\n",
      "    deacc : bool, optional\n",
      "        If True - remove accentuation.\n",
      "    \n",
      "    Returns\n",
      "    -------\n",
      "    result: list of (str, float)\n",
      "        If `scores`, keywords with scores **OR**\n",
      "    result: list of str\n",
      "        If `split`, keywords only **OR**\n",
      "    result: str\n",
      "        Keywords, joined by endl.\n",
      "\n"
     ]
    }
   ],
   "source": [
    "help(keywords)"
   ]
  },
  {
   "cell_type": "code",
   "execution_count": 10,
   "metadata": {},
   "outputs": [
    {
     "data": {
      "text/plain": [
       "[('production', 0.27158057325121843),\n",
       " ('president', 0.25302201457447515),\n",
       " ('harley', 0.22931345586493718),\n",
       " ('republican', 0.20655423881078555),\n",
       " ('american', 0.20655423881078552),\n",
       " ('house', 0.2065542388107855),\n",
       " ('taxes', 0.20655423881078536),\n",
       " ('taxed', 0.20655423881078536),\n",
       " ('tariff', 0.18373798111238868),\n",
       " ('tariffs', 0.18373798111238868)]"
      ]
     },
     "execution_count": 10,
     "metadata": {},
     "output_type": "execute_result"
    }
   ],
   "source": [
    "keywords(text, scores=True)"
   ]
  },
  {
   "cell_type": "markdown",
   "metadata": {},
   "source": [
    "Now let's use a larger text, let's get an ebook from the Gutenberg database, for example something Emma by Jane Austen:"
   ]
  },
  {
   "cell_type": "code",
   "execution_count": 12,
   "metadata": {},
   "outputs": [],
   "source": [
    "ebook_url = 'http://www.gutenberg.org/files/158/158-0.txt'\n",
    "ebook_text = requests.get(ebook_url).text"
   ]
  },
  {
   "cell_type": "code",
   "execution_count": 29,
   "metadata": {},
   "outputs": [
    {
     "data": {
      "text/plain": [
       "('Original length of text is: ', 919021)"
      ]
     },
     "execution_count": 29,
     "metadata": {},
     "output_type": "execute_result"
    }
   ],
   "source": [
    "'Original length of text is: ', len(ebook_text)"
   ]
  },
  {
   "cell_type": "markdown",
   "metadata": {},
   "source": [
    "The ebook retrieved close to 1 million characters. After trying to get the summary there was a Memory Error encountered. So we will reduce the text to around 1/10 of the original length and let's get a summary of that reduced text to a 1%:"
   ]
  },
  {
   "cell_type": "code",
   "execution_count": 30,
   "metadata": {},
   "outputs": [],
   "source": [
    "sub = int(len(ebook_text) / 10)\n",
    "ebook_sub = ebook_text[:sub]"
   ]
  },
  {
   "cell_type": "code",
   "execution_count": 31,
   "metadata": {},
   "outputs": [
    {
     "data": {
      "text/plain": [
       "('Reduced length of text is: ', 91902)"
      ]
     },
     "execution_count": 31,
     "metadata": {},
     "output_type": "execute_result"
    }
   ],
   "source": [
    "'Reduced length of text is: ', sub"
   ]
  },
  {
   "cell_type": "code",
   "execution_count": 32,
   "metadata": {},
   "outputs": [
    {
     "data": {
      "text/plain": [
       "\"Emma Woodhouse, handsome, clever, and rich, with a comfortable home\\r\\ndifference between a Mrs. Weston, only half a mile from them, and a Miss\\r\\n'poor Miss Taylor.' I have a great regard for you and Emma; but when it\\r\\n“Well,” said Emma, willing to let it pass--“you want to hear about\\r\\n“Dear Emma bears every thing so well,” said her father.\\nsuccess, you know!--Every body said that Mr. Weston would never marry\\r\\nwould be a very good thing for Miss Taylor if Mr. Weston were to marry\\r\\nHarriet Smith's intimacy at Hartfield was soon a settled thing.\\n“Well done, Mrs. Martin!” thought Emma.\\nindoors man, else they do not want for any thing; and Mrs. Martin talks\\r\\nKnightley, “of this great intimacy between Emma and Harriet Smith, but I\\r\\nEmma must do Harriet good: and by supplying her with a\\r\\nnew object of interest, Harriet may be said to do Emma good.\\nnothing herself, and looks upon Emma as knowing every thing.\\nEmma could not feel a doubt of having given Harriet's fancy a proper\\r\\nYes, good man!--thought Emma--but what has all that to do with taking\\r\\na very good likeness of it--(Mrs. Weston and I were quite agreed in\\r\\ngood a letter, Harriet, that every thing considered, I think one of his\\r\""
      ]
     },
     "execution_count": 32,
     "metadata": {},
     "output_type": "execute_result"
    }
   ],
   "source": [
    "summarize(ebook_sub, ratio=0.01)"
   ]
  },
  {
   "cell_type": "markdown",
   "metadata": {},
   "source": [
    "Not only took quite a bit of time to process the text (around 5 minutes), it also outputs something that is dificult to value as an actual summary of the book.\n",
    "\n",
    "This let us conclude, that the extractive automatic summarization in general is, at this point in technology,  getting better for non-fictional text like news, science articles and similar formal representations, but it gets very difficult to extract a meaninful summary for other kinds of text, like in this case, a piece of a novel. An abstractive reinforced learning method may be a better solution to get the summary of this novel."
   ]
  },
  {
   "cell_type": "markdown",
   "metadata": {},
   "source": [
    "Let's finally output the first 10 keywords of the ebook we downloaded:"
   ]
  },
  {
   "cell_type": "code",
   "execution_count": 34,
   "metadata": {},
   "outputs": [
    {
     "data": {
      "text/plain": [
       "[('emma', 0.34802493396112461),\n",
       " ('little', 0.26814972277758409),\n",
       " ('_little_', 0.26814972277758409),\n",
       " ('harriet', 0.25106911199019366),\n",
       " ('good', 0.24990148228268771),\n",
       " ('goodness', 0.24990148228268771),\n",
       " ('miss', 0.16575848802960919),\n",
       " ('missing', 0.16575848802960919),\n",
       " ('missed', 0.16575848802960919),\n",
       " ('mrs', 0.15705022829834347)]"
      ]
     },
     "execution_count": 34,
     "metadata": {},
     "output_type": "execute_result"
    }
   ],
   "source": [
    "keywords(ebook_sub, scores=True)[:10]"
   ]
  },
  {
   "cell_type": "markdown",
   "metadata": {},
   "source": [
    "And without a doubt, the gensim function does apparently a good job by provinding a base point for further analysis."
   ]
  },
  {
   "cell_type": "code",
   "execution_count": null,
   "metadata": {},
   "outputs": [],
   "source": []
  }
 ],
 "metadata": {
  "kernelspec": {
   "display_name": "Python 3",
   "language": "python",
   "name": "python3"
  },
  "language_info": {
   "codemirror_mode": {
    "name": "ipython",
    "version": 3
   },
   "file_extension": ".py",
   "mimetype": "text/x-python",
   "name": "python",
   "nbconvert_exporter": "python",
   "pygments_lexer": "ipython3",
   "version": "3.6.4"
  }
 },
 "nbformat": 4,
 "nbformat_minor": 2
}
