{
 "cells": [
  {
   "cell_type": "markdown",
   "metadata": {},
   "source": [
    "# Appendix A\n",
    "\n",
    "## ZHAW, CAS Machine Learning, Text Analytics\n",
    "## Text Summarization with gensim\n",
    "**Giovanni López, June 2018**"
   ]
  },
  {
   "cell_type": "markdown",
   "metadata": {},
   "source": [
    "We are going to try to solve a simple Text Summarization problem by using the gensim library in Python. Gensim is a Python library for topic modelling, document indexing and similarity retrieval.\n",
    "\n",
    "This summarizer is based on the \"TextRank\" algorithm and \"BM25 ranking function\". It only works for English, stopwords are removed and words are stemmed.\n",
    "\n",
    "With gensim already installed, we are going to call the *'summarization'* method of the module and import a few sub-methods:"
   ]
  },
  {
   "cell_type": "code",
   "execution_count": 18,
   "metadata": {},
   "outputs": [],
   "source": [
    "from gensim.summarization import summarize\n",
    "from gensim.summarization import keywords"
   ]
  },
  {
   "cell_type": "markdown",
   "metadata": {},
   "source": [
    "Now, let's copy a few lines from a random [article](https://www.nytimes.com/2018/06/26/business/trump-harley-davidson-tariffs.html?hp&action=click&pgtype=Homepage&clickSource=story-heading&module=first-column-region&region=top-news&WT.nav=top-news) from the New York Times, something like the following:"
   ]
  },
  {
   "cell_type": "code",
   "execution_count": 4,
   "metadata": {},
   "outputs": [],
   "source": [
    "text = '''President Trump lashed out at one of his favorite American manufacturers on Tuesday, \n",
    "criticizing Harley-Davidson over its plans to move some of its motorcycle production abroad and threatening it with punitive taxes in return.\n",
    "In a series of tweets on Tuesday, the president accused the Wisconsin-based company of having “surrendered” in Mr. Trump’s trade war with Europe. \n",
    "He told Republican lawmakers at a White House meeting that the move amounted to a betrayal, saying, “I’ve been very good to Harley-Davidson.”\n",
    "“If they move, watch, it will be the beginning of the end — they surrendered, they quit!” the president wrote on Twitter. \n",
    "“The Aura will be gone and they will be taxed like never before!”\n",
    "A day earlier, Harley-Davidson announced that it would shift some of its production overseas in response to the European Union’s \n",
    "new 31 percent tariff on its imported bikes, which was imposed in retaliation for Mr. Trump’s steel and aluminum tariffs.\n",
    "'''"
   ]
  },
  {
   "cell_type": "markdown",
   "metadata": {},
   "source": [
    "Let's explore the method *summarize* imported from gensim "
   ]
  },
  {
   "cell_type": "code",
   "execution_count": 6,
   "metadata": {},
   "outputs": [
    {
     "name": "stdout",
     "output_type": "stream",
     "text": [
      "Help on function summarize in module gensim.summarization.summarizer:\n",
      "\n",
      "summarize(text, ratio=0.2, word_count=None, split=False)\n",
      "    Get a summarized version of the given text.\n",
      "    \n",
      "    The output summary will consist of the most representative sentences\n",
      "    and will be returned as a string, divided by newlines.\n",
      "    \n",
      "    Note\n",
      "    ----\n",
      "    The input should be a string, and must be longer than :const:`~gensim.summarization.summarizer.INPUT_MIN_LENGTH`\n",
      "    sentences for the summary to make sense.\n",
      "    The text will be split into sentences using the split_sentences method in the :mod:`gensim.summarization.texcleaner`\n",
      "    module. Note that newlines divide sentences.\n",
      "    \n",
      "    \n",
      "    Parameters\n",
      "    ----------\n",
      "    text : str\n",
      "        Given text.\n",
      "    ratio : float, optional\n",
      "        Number between 0 and 1 that determines the proportion of the number of\n",
      "        sentences of the original text to be chosen for the summary.\n",
      "    word_count : int or None, optional\n",
      "        Determines how many words will the output contain.\n",
      "        If both parameters are provided, the ratio will be ignored.\n",
      "    split : bool, optional\n",
      "        If True, list of sentences will be returned. Otherwise joined\n",
      "        strings will bwe returned.\n",
      "    \n",
      "    Returns\n",
      "    -------\n",
      "    list of str\n",
      "        If `split` **OR**\n",
      "    str\n",
      "        Most representative sentences of given the text.\n",
      "\n"
     ]
    }
   ],
   "source": [
    "help(summarize)"
   ]
  },
  {
   "cell_type": "markdown",
   "metadata": {},
   "source": [
    "So, let's run a summarization leaving all the optional arguments with the default values, thus, we just pass the string:"
   ]
  },
  {
   "cell_type": "code",
   "execution_count": 7,
   "metadata": {},
   "outputs": [
    {
     "data": {
      "text/plain": [
       "'In a series of tweets on Tuesday, the president accused the Wisconsin-based company of having “surrendered” in Mr. Trump’s trade war with Europe.'"
      ]
     },
     "execution_count": 7,
     "metadata": {},
     "output_type": "execute_result"
    }
   ],
   "source": [
    "summarize(text)"
   ]
  },
  {
   "cell_type": "markdown",
   "metadata": {},
   "source": [
    "The default ratio of 0.2 on means that 20% of the original text will be returned, let's play with this ratio, going from 0.2 to 0.5 and then going back to 0.1:"
   ]
  },
  {
   "cell_type": "code",
   "execution_count": 9,
   "metadata": {},
   "outputs": [
    {
     "data": {
      "text/plain": [
       "'President Trump lashed out at one of his favorite American manufacturers on Tuesday, \\ncriticizing Harley-Davidson over its plans to move some of its motorcycle production abroad and threatening it with punitive taxes in return.\\nIn a series of tweets on Tuesday, the president accused the Wisconsin-based company of having “surrendered” in Mr. Trump’s trade war with Europe.\\nA day earlier, Harley-Davidson announced that it would shift some of its production overseas in response to the European Union’s '"
      ]
     },
     "execution_count": 9,
     "metadata": {},
     "output_type": "execute_result"
    }
   ],
   "source": [
    "summarize(text, ratio=0.5)"
   ]
  },
  {
   "cell_type": "code",
   "execution_count": 10,
   "metadata": {},
   "outputs": [
    {
     "data": {
      "text/plain": [
       "''"
      ]
     },
     "execution_count": 10,
     "metadata": {},
     "output_type": "execute_result"
    }
   ],
   "source": [
    "summarize(text, ratio=0.1)"
   ]
  },
  {
   "cell_type": "markdown",
   "metadata": {},
   "source": [
    "When using a ration of 0.1 it seems it does not find a sentece or structure to represent the summary that is only 10% of the original text. It appears that default ratio of 0.2 does a good job on getting the summary, let's now change the word count to get in the output:"
   ]
  },
  {
   "cell_type": "code",
   "execution_count": 17,
   "metadata": {},
   "outputs": [
    {
     "data": {
      "text/plain": [
       "'criticizing Harley-Davidson over its plans to move some of its motorcycle production abroad and threatening it with punitive taxes in return.\\nIn a series of tweets on Tuesday, the president accused the Wisconsin-based company of having “surrendered” in Mr. Trump’s trade war with Europe.\\nA day earlier, Harley-Davidson announced that it would shift some of its production overseas in response to the European Union’s '"
      ]
     },
     "execution_count": 17,
     "metadata": {},
     "output_type": "execute_result"
    }
   ],
   "source": [
    "summarize(text, word_count=60)"
   ]
  },
  {
   "cell_type": "markdown",
   "metadata": {},
   "source": [
    "Let's now try the *keywords* method:"
   ]
  },
  {
   "cell_type": "code",
   "execution_count": 19,
   "metadata": {},
   "outputs": [
    {
     "name": "stdout",
     "output_type": "stream",
     "text": [
      "Help on function keywords in module gensim.summarization.keywords:\n",
      "\n",
      "keywords(text, ratio=0.2, words=None, split=False, scores=False, pos_filter=('NN', 'JJ'), lemmatize=False, deacc=True)\n",
      "    Get most ranked words of provided text and/or its combinations.\n",
      "    \n",
      "    Parameters\n",
      "    ----------\n",
      "    \n",
      "    text : str\n",
      "        Input text.\n",
      "    ratio : float, optional\n",
      "        If no \"words\" option is selected, the number of sentences is reduced by the provided ratio,\n",
      "        else, the ratio is ignored.\n",
      "    words : int, optional\n",
      "        Number of returned words.\n",
      "    split : bool, optional\n",
      "        Whether split keywords if True.\n",
      "    scores : bool, optional\n",
      "        Whether score of keyword.\n",
      "    pos_filter : tuple, optional\n",
      "        Part of speech filters.\n",
      "    lemmatize : bool, optional\n",
      "        If True - lemmatize words.\n",
      "    deacc : bool, optional\n",
      "        If True - remove accentuation.\n",
      "    \n",
      "    Returns\n",
      "    -------\n",
      "    result: list of (str, float)\n",
      "        If `scores`, keywords with scores **OR**\n",
      "    result: list of str\n",
      "        If `split`, keywords only **OR**\n",
      "    result: str\n",
      "        Keywords, joined by endl.\n",
      "\n"
     ]
    }
   ],
   "source": [
    "help(keywords)"
   ]
  },
  {
   "cell_type": "code",
   "execution_count": 20,
   "metadata": {},
   "outputs": [
    {
     "data": {
      "text/plain": [
       "[('production', 0.27158057325121909),\n",
       " ('president', 0.25302201457447548),\n",
       " ('harley', 0.22931345586493701),\n",
       " ('house', 0.20655423881078544),\n",
       " ('taxes', 0.20655423881078536),\n",
       " ('taxed', 0.20655423881078536),\n",
       " ('american', 0.20655423881078533),\n",
       " ('republican', 0.20655423881078516),\n",
       " ('tariff', 0.1837379811123882),\n",
       " ('tariffs', 0.1837379811123882)]"
      ]
     },
     "execution_count": 20,
     "metadata": {},
     "output_type": "execute_result"
    }
   ],
   "source": [
    "keywords(text, scores=True)"
   ]
  }
 ],
 "metadata": {
  "kernelspec": {
   "display_name": "Python 3",
   "language": "python",
   "name": "python3"
  },
  "language_info": {
   "codemirror_mode": {
    "name": "ipython",
    "version": 3
   },
   "file_extension": ".py",
   "mimetype": "text/x-python",
   "name": "python",
   "nbconvert_exporter": "python",
   "pygments_lexer": "ipython3",
   "version": "3.6.4"
  }
 },
 "nbformat": 4,
 "nbformat_minor": 2
}
